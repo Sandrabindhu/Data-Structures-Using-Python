{
 "cells": [
  {
   "cell_type": "code",
   "execution_count": 1,
   "id": "65d595fb-4313-4d26-878e-be3d666ac21a",
   "metadata": {},
   "outputs": [],
   "source": [
    "# Linked List \n",
    "#  - Sequence of items (objects) where every item is lined to the next.\n",
    "#  - Each element is dynamiclly allocated and in which elements points to each other.\n",
    "#  - Elements are called nodes where each node has data and pointer to the next node.\n",
    "#  - REquires more memory than array\n",
    "\n",
    "# Real Time Problem\n",
    "# Types of linked list\n",
    "# 1.) Singly linked list\n",
    "#     - It is one way sequences\n",
    "# 2.) Doubly linked list\n",
    "#     - It is two way sequences\n",
    "# 3.) Circular Linked List\n",
    "#     - The last node be indicated to the first node\n",
    "# I)Steps to do the Singly linked list:\n",
    "#    -> Create a node\n",
    "#    -> Create a linked list\n",
    "#    -> Operation of linked list \n",
    "#             |->Traverse\n",
    "#             |->Insertion\n",
    "#             |->Deletion\n",
    "#\n",
    "#\n",
    "#\n",
    "#\n",
    "#\n",
    "#\n",
    "#\n",
    "#\n",
    "#\n",
    "#\n",
    "#"
   ]
  },
  {
   "cell_type": "code",
   "execution_count": 3,
   "id": "4371bafe-8b1b-459e-bdf3-ab3ead8e8d3b",
   "metadata": {},
   "outputs": [
    {
     "name": "stdin",
     "output_type": "stream",
     "text": [
      "Enter your name:  Sandra\n",
      "Enter your age:  23\n",
      "Enter your degree:  MCA\n"
     ]
    },
    {
     "name": "stdout",
     "output_type": "stream",
     "text": [
      "Name: Sandra\n",
      "Age: 23\n",
      "Degree: MCA\n"
     ]
    }
   ],
   "source": [
    "class User:\n",
    "    def __init__(self, name, age, degree):\n",
    "        self.name = name\n",
    "        self.age = age\n",
    "        self.degree = degree\n",
    "\n",
    "    def display_info(self):\n",
    "        print(f\"Name: {self.name}\")\n",
    "        print(f\"Age: {self.age}\")\n",
    "        print(f\"Degree: {self.degree}\")\n",
    "\n",
    "name = input(\"Enter your name: \")\n",
    "age = input(\"Enter your age: \")\n",
    "degree = input(\"Enter your degree: \")\n",
    "\n",
    "user = User(name, age, degree)\n",
    "user.display_info()\n"
   ]
  },
  {
   "cell_type": "code",
   "execution_count": 17,
   "id": "8147e008-b83e-49da-841a-d2265442153c",
   "metadata": {},
   "outputs": [],
   "source": [
    "# ** Recursion **\n",
    "#  - A technique where a function calls itself in order to solve a problem.\n",
    "#  - The function repeats its process with a smaller \n",
    "# ** Baci  Structure of Recursion **\n",
    "#  - Base Case : \n",
    "#  - Recursive Casre :\n",
    "#  ** Example : Factorial**\n",
    "#  The factorial function can be defined recursively as:\n",
    "#   *  Factorial(n) = n*factorial(n-1) for n>1\n",
    "#   *  Factorial(1) = 1 base case\n",
    "#  \n",
    "# def recursive_function(params):\n",
    "#   # Base Case: condition to stop recursion\n",
    "#    if condition:\n",
    "#        return base_case_value\n",
    "#    else:\n",
    "#       #Recursive case: function calls itself with modified parameters\n",
    "#       return recursive_function(modified_params)\n",
    "#\n",
    "#\n",
    "#\n",
    "#  ** Example:\n",
    "#\n",
    "#   * 1) Recursion\n",
    "#\n",
    "#     def factorial(n):\n",
    "#       if n == 1:\n",
    "#           return 1\n",
    "#       else:\n",
    "#           return n* factorial(n-1)\n",
    "#\n",
    "# Manuval Cal:-\n",
    "#  n=5\n",
    "#  fact(5) = 5*fact(4)   =>5x24 =120\n",
    "#  fact(4) = 4*fact(3)   =>4x6 =24\n",
    "#  fact(3) = 3*fact(2)   =>3x2 =6\n",
    "#  fact(2) = 2*fact(1)   =>2x1 =2\n",
    "#  fact(1) = 1*fact(0)   =>1 \n",
    "#  fact(0) = 1\n",
    "#\n",
    "#   *2) Iteration \n",
    "#\n",
    "#      def factorial(n):\n",
    "#         result =1\n",
    "#         for i in range(1, n+1):\n",
    "#            result *= i\n",
    "#         return result\n",
    "#\n",
    "#\n",
    "#\n",
    "#\n",
    "#\n",
    "#\n",
    "#\n",
    "#\n",
    "#\n",
    "#\n",
    "#\n",
    "#\n",
    "#\n",
    "#\n",
    "#\n",
    "#\n",
    "#\n",
    "#\n",
    "#\n",
    "#\n"
   ]
  },
  {
   "cell_type": "code",
   "execution_count": 21,
   "id": "ecfb87b6-6317-4995-9b22-4969dbb4e22b",
   "metadata": {},
   "outputs": [
    {
     "name": "stdout",
     "output_type": "stream",
     "text": [
      "23\n",
      "111213\n",
      "212223\n",
      "313233\n"
     ]
    }
   ],
   "source": [
    "x=[\n",
    "    [11,12,13],\n",
    "    [21,22,23],\n",
    "    [31,32,33]\n",
    "]\n",
    "\n",
    "#access of element of 2d array\n",
    "op = x[1][2]\n",
    "print(op)\n",
    "\n",
    "#traverse all elements\n",
    "for i in x:  # row\n",
    "    for j in i:  # i th row traversal of j th column\n",
    "        print(j, end=\"\")\n",
    "    print()"
   ]
  },
  {
   "cell_type": "code",
   "execution_count": 31,
   "id": "56caccff-c686-45bd-88e1-94ffd25a22af",
   "metadata": {},
   "outputs": [
    {
     "name": "stdout",
     "output_type": "stream",
     "text": [
      "22 24 26 \n",
      "42 44 46 \n",
      "62 64 66 \n"
     ]
    }
   ],
   "source": [
    "x1=[\n",
    "    [11,12,13],\n",
    "    [21,22,23],\n",
    "    [31,32,33]\n",
    "]\n",
    "\n",
    "x2=[\n",
    "    [11,12,13],\n",
    "    [21,22,23],\n",
    "    [31,32,33]\n",
    "]\n",
    "\n",
    "result =[]\n",
    "#matrix addition\n",
    "for i in range(len(x1)):  # row\n",
    "    row =[]\n",
    "    for j in range(len(x1[0])):  # i th row traversal of j th column\n",
    "        row.append(x1[i][j] + x2[i][j])\n",
    "    result.append(row)\n",
    "#print output\n",
    "for i in result:\n",
    "    for j in i:\n",
    "        print(j, end=\" \")\n",
    "    print()"
   ]
  },
  {
   "cell_type": "code",
   "execution_count": 37,
   "id": "89587612-95f3-47f9-a14d-5ecb7041f8ce",
   "metadata": {},
   "outputs": [
    {
     "name": "stdout",
     "output_type": "stream",
     "text": [
      "[[1.+0.j 2.+0.j 3.+0.j]\n",
      " [4.+0.j 5.+0.j 6.+0.j]\n",
      " [7.+0.j 8.+0.j 9.+0.j]]\n"
     ]
    }
   ],
   "source": [
    "import numpy as np\n",
    "\n",
    "x = np.array([\n",
    "    [1, 2, 3],\n",
    "    [4, 5, 6],\n",
    "    [7, 8, 9]], dtype=complex)\n",
    "\n",
    "print(x)\n"
   ]
  },
  {
   "cell_type": "code",
   "execution_count": 39,
   "id": "d4a60385-e47a-4c72-a8f8-1d8891b068dc",
   "metadata": {},
   "outputs": [
    {
     "name": "stdout",
     "output_type": "stream",
     "text": [
      "[[1 1 1]\n",
      " [1 1 1]]\n"
     ]
    }
   ],
   "source": [
    "y = np.ones((2,3), dtype = np.int32)\n",
    "print(y)"
   ]
  },
  {
   "cell_type": "code",
   "execution_count": 41,
   "id": "0c882df3-0bca-4912-b798-bbee972bb14a",
   "metadata": {},
   "outputs": [
    {
     "name": "stdout",
     "output_type": "stream",
     "text": [
      "[[1. 1. 1.]\n",
      " [1. 1. 1.]]\n"
     ]
    }
   ],
   "source": [
    "y = np.ones((2,3))\n",
    "print(y)"
   ]
  },
  {
   "cell_type": "code",
   "execution_count": 43,
   "id": "065eca8e-9db3-4e0b-b7c5-c0a76e2b1811",
   "metadata": {},
   "outputs": [
    {
     "name": "stdout",
     "output_type": "stream",
     "text": [
      "[[0. 0.]\n",
      " [0. 0.]\n",
      " [0. 0.]]\n"
     ]
    }
   ],
   "source": [
    "z = np.zeros((3,2))\n",
    "print(z)"
   ]
  },
  {
   "cell_type": "code",
   "execution_count": 57,
   "id": "bd90f8f5-b99b-4232-a9d4-811a26652d7d",
   "metadata": {},
   "outputs": [
    {
     "name": "stdout",
     "output_type": "stream",
     "text": [
      "[[(1, 1.) (1, 1.)]\n",
      " [(1, 1.) (1, 1.)]\n",
      " [(1, 1.) (1, 1.)]]\n"
     ]
    }
   ],
   "source": [
    "z = np.ones((3,2), dtype = [('m', 'int'),('n', 'float')])\n",
    "print(z)"
   ]
  },
  {
   "cell_type": "code",
   "execution_count": 49,
   "id": "869bce32-812e-4c46-93df-94009e0f9131",
   "metadata": {},
   "outputs": [
    {
     "name": "stdout",
     "output_type": "stream",
     "text": [
      "[[0 0 0]\n",
      " [0 0 0]]\n"
     ]
    }
   ],
   "source": [
    "z = np.zeros((2,3), dtype = np.int32)\n",
    "print(z)"
   ]
  },
  {
   "cell_type": "code",
   "execution_count": 61,
   "id": "e8c09c86-c303-44c4-923d-4ef790aeaf65",
   "metadata": {},
   "outputs": [
    {
     "name": "stdout",
     "output_type": "stream",
     "text": [
      "[[ 1  3  5  7]\n",
      " [ 9 11 13 15]\n",
      " [17 19 21 23]]\n"
     ]
    }
   ],
   "source": [
    "z = np.arange(1, 24, 2).reshape(3,4)\n",
    "print(z)"
   ]
  },
  {
   "cell_type": "code",
   "execution_count": 69,
   "id": "adf3e278-7d07-4bcd-9c21-3c8fe4879f0a",
   "metadata": {},
   "outputs": [
    {
     "name": "stdout",
     "output_type": "stream",
     "text": [
      "Row 0: [1 3 5 7]\n",
      "Row 1: [ 9 11 13 15]\n",
      "Row -1: [17 19 21 23]\n"
     ]
    }
   ],
   "source": [
    "print(\"Row 0:\", z[0])\n",
    "print(\"Row 1:\",  z[1])\n",
    "print(\"Row -1:\", z[-1])  # neggative indexing of row2\n"
   ]
  },
  {
   "cell_type": "code",
   "execution_count": 71,
   "id": "7e723a32-77a9-4426-abbe-b841ed454782",
   "metadata": {},
   "outputs": [
    {
     "name": "stdout",
     "output_type": "stream",
     "text": [
      "[[ 1  3  5  7]\n",
      " [ 9 11 13 15]]\n"
     ]
    }
   ],
   "source": [
    "#slicing operator\n",
    "print(z[0:2])"
   ]
  },
  {
   "cell_type": "code",
   "execution_count": 75,
   "id": "6e900cba-9561-4560-bfaf-5c765e69f32d",
   "metadata": {},
   "outputs": [
    {
     "name": "stdout",
     "output_type": "stream",
     "text": [
      "[[ 9 11 13 15]\n",
      " [17 19 21 23]]\n"
     ]
    }
   ],
   "source": [
    "print(z[1:])"
   ]
  },
  {
   "cell_type": "code",
   "execution_count": 79,
   "id": "8217a97f-991e-4961-9270-64b5bd2f645c",
   "metadata": {},
   "outputs": [
    {
     "name": "stdout",
     "output_type": "stream",
     "text": [
      "[[17 19 21 23]\n",
      " [ 9 11 13 15]\n",
      " [ 1  3  5  7]]\n"
     ]
    }
   ],
   "source": [
    "print(z[::-1]) # reverse an array\n"
   ]
  },
  {
   "cell_type": "code",
   "execution_count": 83,
   "id": "bced3164-5c16-4a3c-9c34-5d182b07b9bb",
   "metadata": {},
   "outputs": [
    {
     "name": "stdout",
     "output_type": "stream",
     "text": [
      "[ 1  9 17]\n"
     ]
    }
   ],
   "source": [
    "#column access\n",
    "print(z[:,0])"
   ]
  },
  {
   "cell_type": "markdown",
   "id": "bbb1d454-040e-4577-8e4b-a25918c5aa76",
   "metadata": {},
   "source": [
    "print(\"Column 0:\", z[:,0])"
   ]
  },
  {
   "cell_type": "code",
   "execution_count": 90,
   "id": "2c4db69e-9574-4b75-87eb-fb2ae1c30e36",
   "metadata": {},
   "outputs": [
    {
     "name": "stdout",
     "output_type": "stream",
     "text": [
      "column 0 [ 1  9 17]\n",
      "column 1 [ 3 11 19]\n",
      "column 2 [ 7 15 23]\n"
     ]
    }
   ],
   "source": [
    "print (\"column 0\" , z[:, 0])\n",
    "print (\"column 1\" , z[:, 1])\n",
    "print (\"column 2\" , z[:, -1])"
   ]
  },
  {
   "cell_type": "code",
   "execution_count": 92,
   "id": "4cdcff70-9332-46b8-8a9e-58d0fe1e21ab",
   "metadata": {},
   "outputs": [],
   "source": [
    "#  New topic : 2d matrix additon"
   ]
  },
  {
   "cell_type": "code",
   "execution_count": 94,
   "id": "cd87efe0-2256-48f1-bea1-deea9d1eebc7",
   "metadata": {},
   "outputs": [
    {
     "name": "stdout",
     "output_type": "stream",
     "text": [
      "[[ 12  24  36]\n",
      " [ 48  60  72]\n",
      " [ 84  96 108]]\n"
     ]
    }
   ],
   "source": [
    "import numpy as np\n",
    "x1 = np.array([\n",
    "    [1, 2, 3],\n",
    "    [4, 5, 6],\n",
    "    [7, 8, 9]])\n",
    "x2 = np.array([\n",
    "    [11, 22, 33],\n",
    "    [44, 55, 66],\n",
    "    [77, 88, 99]])\n",
    "result = x1 + x2\n",
    "print(result)"
   ]
  },
  {
   "cell_type": "code",
   "execution_count": 11,
   "id": "3c55104e-395b-4d3a-98a9-4563edd81f4a",
   "metadata": {},
   "outputs": [
    {
     "name": "stdout",
     "output_type": "stream",
     "text": [
      "[12, 24, 36] [48, 60, 72] [84, 96, 108] "
     ]
    }
   ],
   "source": [
    "import numpy as np\n",
    "x1 = np.array([\n",
    "    [1, 2, 3],\n",
    "    [4, 5, 6],\n",
    "    [7, 8, 9]])\n",
    "x2 = np.array([\n",
    "    [11, 22, 33],\n",
    "    [44, 55, 66],\n",
    "    [77, 88, 99]])\n",
    "def matrix_addition(x1,x2):\n",
    "    result = []\n",
    "    for i in range(len(x1)):\n",
    "        row = []\n",
    "        for j in range(len(x1[0])):\n",
    "            row.append((x1[i][j] + x2[i][j]))\n",
    "        result.append(row)\n",
    "    return(result)\n",
    "#print (matrix_addition(x1,x2))\n",
    "output = matrix_addition(x1,x2)\n",
    "for i in output:\n",
    "    print(i, end= \" \")"
   ]
  },
  {
   "cell_type": "code",
   "execution_count": 9,
   "id": "c4aa9899-0f7c-4f52-919a-2bf937273c8e",
   "metadata": {},
   "outputs": [],
   "source": [
    "# Insertion new elements in a singly Linked List\n",
    "\n",
    "# Code:\n",
    "\n",
    "class node:\n",
    "    def _in_it (self, Newdata=None,link=None):\n",
    "        self.data = Newdata\n",
    "        self.next = link\n",
    "class singleLinkedList:\n",
    "    def insert_begin(self, newData):\n",
    "        self.Head=Node(newData, self.Head)\n"
   ]
  },
  {
   "cell_type": "code",
   "execution_count": 7,
   "id": "ac08ec37-2e31-4922-ab96-637afa11f7a0",
   "metadata": {},
   "outputs": [],
   "source": [
    "# Insertion new elements in a singly Linked List\n",
    "\n",
    "# Code:\n",
    "\n",
    "def insert_end(self,newData):\n",
    "    newNode=Node(newData)\n",
    "    if self.Head is None:\n",
    "        self.Head = newNode\n",
    "    else:\n",
    "        curNode = self.Head\n",
    "        while curNode.next is not None:\n",
    "            curNode = curNode.next\n",
    "        curNode.next = newNode"
   ]
  },
  {
   "cell_type": "code",
   "execution_count": null,
   "id": "4666e253-3434-4fba-8b00-31c630a0a678",
   "metadata": {},
   "outputs": [],
   "source": []
  }
 ],
 "metadata": {
  "kernelspec": {
   "display_name": "Python 3 (ipykernel)",
   "language": "python",
   "name": "python3"
  },
  "language_info": {
   "codemirror_mode": {
    "name": "ipython",
    "version": 3
   },
   "file_extension": ".py",
   "mimetype": "text/x-python",
   "name": "python",
   "nbconvert_exporter": "python",
   "pygments_lexer": "ipython3",
   "version": "3.12.4"
  }
 },
 "nbformat": 4,
 "nbformat_minor": 5
}
