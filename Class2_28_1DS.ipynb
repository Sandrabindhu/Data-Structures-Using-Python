{
 "cells": [
  {
   "cell_type": "code",
   "execution_count": 1,
   "id": "1a6c43fa-6056-46d5-ac58-ce921ef69e46",
   "metadata": {},
   "outputs": [
    {
     "ename": "SyntaxError",
     "evalue": "invalid syntax (794620567.py, line 2)",
     "output_type": "error",
     "traceback": [
      "\u001b[1;36m  Cell \u001b[1;32mIn[1], line 2\u001b[1;36m\u001b[0m\n\u001b[1;33m    import array ar arr\u001b[0m\n\u001b[1;37m                 ^\u001b[0m\n\u001b[1;31mSyntaxError\u001b[0m\u001b[1;31m:\u001b[0m invalid syntax\n"
     ]
    }
   ],
   "source": [
    "#Create an array\n",
    "import array ar arr\n",
    "x=arr.array([2,10,0,15,55])\n",
    "type(x)\n",
    "for i in x:\n",
    "    print(i)\n",
    "\n",
    "# Error output"
   ]
  },
  {
   "cell_type": "code",
   "execution_count": 3,
   "id": "2a284419-4496-4b8b-b425-1584f6836038",
   "metadata": {},
   "outputs": [
    {
     "name": "stdout",
     "output_type": "stream",
     "text": [
      "2\n",
      "10\n",
      "0\n",
      "15\n",
      "55\n"
     ]
    }
   ],
   "source": [
    "import numpy as np\n",
    "x=np.array([2,10,0,15,55])\n",
    "type(x)\n",
    "for i in x:\n",
    "    print(i)"
   ]
  },
  {
   "cell_type": "code",
   "execution_count": 13,
   "id": "96753250-bc5f-40e1-bbfd-6c1f9601880d",
   "metadata": {},
   "outputs": [
    {
     "name": "stdout",
     "output_type": "stream",
     "text": [
      "2\n",
      "0\n",
      "15\n",
      "55\n"
     ]
    }
   ],
   "source": [
    "import array as arr\n",
    "x=arr.array('i',[2,10,0,15,55])\n",
    "type(x)\n",
    "x.index(0)\n",
    "for i in x:\n",
    "    print(i)"
   ]
  },
  {
   "cell_type": "code",
   "execution_count": 19,
   "id": "aa54c3af-2619-4835-aa51-1a8d128859d9",
   "metadata": {},
   "outputs": [
    {
     "data": {
      "text/plain": [
       "1"
      ]
     },
     "execution_count": 19,
     "metadata": {},
     "output_type": "execute_result"
    }
   ],
   "source": [
    "import array as arr\n",
    "x=arr.array('i',[2,10,0,15,55])\n",
    "type(x)\n",
    "x.index(10)\n"
   ]
  },
  {
   "cell_type": "code",
   "execution_count": 21,
   "id": "9a3ede20-c17b-46b3-a58b-f58b84bfaf7e",
   "metadata": {},
   "outputs": [
    {
     "name": "stdout",
     "output_type": "stream",
     "text": [
      "2\n",
      "10\n",
      "0\n",
      "15\n",
      "55\n"
     ]
    }
   ],
   "source": [
    "import array as arr\n",
    "x=arr.array('i',[2,10,0,15,55])\n",
    "x[1]=10\n",
    "for i in x:\n",
    "    print(i)"
   ]
  },
  {
   "cell_type": "code",
   "execution_count": 41,
   "id": "fa23e291-4043-4d65-99c3-e17bb7f2face",
   "metadata": {},
   "outputs": [
    {
     "name": "stdout",
     "output_type": "stream",
     "text": [
      "(0, 20)\n"
     ]
    }
   ],
   "source": [
    "import numpy as np\n",
    "x=np.array([5,10,20,0,3,6])\n",
    "def exercise1(x):\n",
    "    min_ele = np.min(x)\n",
    "    max_ele = np.max(x)\n",
    "    return min_ele, max_ele\n",
    "result=exercise1(x)\n",
    "print(result)"
   ]
  },
  {
   "cell_type": "code",
   "execution_count": 45,
   "id": "714ee002-4748-46bf-afaa-8efedbff441d",
   "metadata": {},
   "outputs": [
    {
     "name": "stdout",
     "output_type": "stream",
     "text": [
      "(44, 7.333333333333333)\n"
     ]
    }
   ],
   "source": [
    "#Q2: Find the sum and average of the array elements\n",
    "\n",
    "import numpy as np\n",
    "x=np.array([5,10,20,0,3,6])\n",
    "def avg(x):\n",
    "    length = len(x)\n",
    "    add_all = np.sum(x)\n",
    "    average = add_all/length\n",
    "    return add_all, average\n",
    "result=avg(x)\n",
    "print(result)"
   ]
  },
  {
   "cell_type": "code",
   "execution_count": 47,
   "id": "59aab625-0149-46b5-a3cd-54eb83ecf72e",
   "metadata": {},
   "outputs": [
    {
     "name": "stdout",
     "output_type": "stream",
     "text": [
      "[ 6  3  0 20 10  5]\n"
     ]
    }
   ],
   "source": [
    "#Q3: Rverse an array\n",
    "\n",
    "import numpy as np\n",
    "x=np.array([5,10,20,0,3,6])\n",
    "print(x[::-1])  #slicing method"
   ]
  },
  {
   "cell_type": "code",
   "execution_count": 55,
   "id": "8e06a672-a10c-4550-a681-11753d4e7ac9",
   "metadata": {},
   "outputs": [
    {
     "name": "stdout",
     "output_type": "stream",
     "text": [
      "6\n",
      "3\n",
      "0\n",
      "20\n",
      "10\n",
      "5\n"
     ]
    }
   ],
   "source": [
    "#use looping\n",
    "\n",
    "import numpy as np\n",
    "x=np.array([5,10,20,0,3,6])\n",
    "n=len(x)\n",
    "for i in range(n-1,-1,-1):\n",
    "        print(x[i])\n",
    "# Range:  range(start,stop,step):\n"
   ]
  },
  {
   "cell_type": "code",
   "execution_count": 73,
   "id": "ed1382c3-4f2e-4c91-9679-9cb0c6160a4a",
   "metadata": {},
   "outputs": [
    {
     "name": "stdout",
     "output_type": "stream",
     "text": [
      "[5, 10, 20, 0, 3, 6]\n"
     ]
    }
   ],
   "source": [
    "#Q4: Remove Duplicates an array\n",
    "\n",
    "import numpy as np\n",
    "x=np.array([5,10,20,10,0,3,6])\n",
    "#use looping and membership operator\n",
    "def rem_dup(x):\n",
    "    new_arr=[]\n",
    "    for i in x:\n",
    "        if i not in new_arr:\n",
    "            new_arr.append(i)\n",
    "    return new_arr\n",
    "result=rem_dup(x)\n",
    "print(result)"
   ]
  },
  {
   "cell_type": "code",
   "execution_count": 75,
   "id": "644a37b3-8d2a-47ad-9295-a39bbce800b1",
   "metadata": {},
   "outputs": [
    {
     "name": "stdout",
     "output_type": "stream",
     "text": [
      "[ 3  5  6 10 20]\n"
     ]
    }
   ],
   "source": [
    "# use type conversion\n",
    "import numpy as np\n",
    "x=np.array([5,10,20,5,3,6])\n",
    "def r_dup(x):\n",
    "    res=list(set(x))\n",
    "    return np.array(res)\n",
    "result =r_dup(x)\n",
    "type(result)\n",
    "print(result)"
   ]
  },
  {
   "cell_type": "code",
   "execution_count": 100,
   "id": "f0b3eb02-25fe-4070-b2a8-0348d1505c14",
   "metadata": {},
   "outputs": [
    {
     "ename": "SyntaxError",
     "evalue": "expected 'except' or 'finally' block (2775998122.py, line 12)",
     "output_type": "error",
     "traceback": [
      "\u001b[1;36m  Cell \u001b[1;32mIn[100], line 12\u001b[1;36m\u001b[0m\n\u001b[1;33m    Except ValueError as e:\u001b[0m\n\u001b[1;37m    ^\u001b[0m\n\u001b[1;31mSyntaxError\u001b[0m\u001b[1;31m:\u001b[0m expected 'except' or 'finally' block\n"
     ]
    }
   ],
   "source": [
    "#find the index of an element using exception handaling\n",
    "\n",
    "import numpy as np\n",
    "x=np.array([10,20,30,40,50])\n",
    "def index_arr(x, s_ele):\n",
    "    try:\n",
    "        n = len(x)\n",
    "        for i in range(n):\n",
    "            if x[i] == s_ele:\n",
    "                return i\n",
    "        raise ValueError(\"Element not found\")\n",
    "    Except ValueError as e:\n",
    "    return -1\n",
    "s_ele =int(input())\n",
    "result =index_arr(x, s_ele)\n",
    "print(result)"
   ]
  },
  {
   "cell_type": "code",
   "execution_count": 106,
   "id": "302ae299-ab2b-498e-a66e-85fea7b5b97a",
   "metadata": {},
   "outputs": [
    {
     "name": "stdout",
     "output_type": "stream",
     "text": [
      "[10  5]\n"
     ]
    }
   ],
   "source": [
    "#Find the intersection of two array\n",
    "\n",
    "import numpy as np\n",
    "arr1 = np.array([1,2,3,4,5])\n",
    "arr2 = np.array([1,3,5,8,9])\n",
    "def common_e(arr1, arr2):\n",
    "    new_arr = []\n",
    "    for i in arr1:\n",
    "        if i in arr2 and i not in new_arr:\n",
    "            new_arr.append(x[i])\n",
    "    return np.array(new_arr)\n",
    "result = common_e(arr1, arr2)\n",
    "print(result)"
   ]
  },
  {
   "cell_type": "code",
   "execution_count": 116,
   "id": "281e7a01-20d6-4452-9bc6-2563fd2013f4",
   "metadata": {},
   "outputs": [
    {
     "name": "stdout",
     "output_type": "stream",
     "text": [
      "Original array:  [1 2 3 4 5]\n",
      "Product array:  [120  60  40  30  24]\n"
     ]
    }
   ],
   "source": [
    "#Array Special product - without division\n",
    "\n",
    "import numpy as np\n",
    "x = np.array([1,2,3,4,5])\n",
    "def SP_without_division(x):\n",
    "    n = len(x)\n",
    "    res = [1]*n\n",
    "    for i in range(n):\n",
    "        for j in range(n):\n",
    "            if i != j:\n",
    "                res[i] *= x[j]\n",
    "    return np.array(res)\n",
    "print(\"Original array: \", x)\n",
    "result = SP_without_division(x)\n",
    "print(\"Product array: \", result)"
   ]
  },
  {
   "cell_type": "code",
   "execution_count": 122,
   "id": "2205b69f-b2a4-495c-b658-e1fe83637f37",
   "metadata": {},
   "outputs": [
    {
     "name": "stdout",
     "output_type": "stream",
     "text": [
      "Original array:  [1 2 3 4 5]\n",
      "Product array:  [120, 60, 40, 30, 24]\n"
     ]
    }
   ],
   "source": [
    "#Array Special product - with division\n",
    "\n",
    "import numpy as np\n",
    "import math\n",
    "x = np.array([1,2,3,4,5])\n",
    "def SP_with_division(x):\n",
    "    product = math.prod(x)\n",
    "    new_arr = []\n",
    "    for i in range(len(x)):\n",
    "        res = product//x[i]\n",
    "        new_arr.append(res)\n",
    "    return new_arr\n",
    "print(\"Original array: \", x)\n",
    "result = SP_with_division(x)\n",
    "print(\"Product array: \", result)"
   ]
  },
  {
   "cell_type": "code",
   "execution_count": 126,
   "id": "96523c19-ec7d-41fd-b3a0-e756ba75a018",
   "metadata": {},
   "outputs": [
    {
     "name": "stdout",
     "output_type": "stream",
     "text": [
      "-3\n"
     ]
    }
   ],
   "source": [
    "#All numbers with specific difference\n",
    "N=13; D=2\n",
    "Low=1; High=13\n",
    "while Low<=High:\n",
    "    mid=(High+Low)//2\n",
    "    sum_d=sum(int(digit) for digit in str(mid))\n",
    "    diff=mid-sum_d\n",
    "    if abs(diff)<=2:\n",
    "        Low=mid+1\n",
    "    else:\n",
    "        High=mid-1\n",
    "print(n-High)"
   ]
  },
  {
   "cell_type": "code",
   "execution_count": 138,
   "id": "8ff56c8c-dd62-4f7b-9b1b-5b12f9b96743",
   "metadata": {},
   "outputs": [
    {
     "name": "stdout",
     "output_type": "stream",
     "text": [
      "8\n"
     ]
    }
   ],
   "source": [
    "# Last occurence of one\n",
    "\n",
    "import numpy as np\n",
    "x = np.array([0,0,1,1,0,1,1,0,1,0])\n",
    "def last_1(x):\n",
    "    index = -1\n",
    "    for i in range(len(x)):\n",
    "        if x[i] == 1:\n",
    "            index = i\n",
    "    return index\n",
    "result = last_1(x)\n",
    "print(result)"
   ]
  },
  {
   "cell_type": "markdown",
   "id": "23e14316-f925-485f-9860-f2219128225c",
   "metadata": {},
   "source": []
  }
 ],
 "metadata": {
  "kernelspec": {
   "display_name": "Python 3 (ipykernel)",
   "language": "python",
   "name": "python3"
  },
  "language_info": {
   "codemirror_mode": {
    "name": "ipython",
    "version": 3
   },
   "file_extension": ".py",
   "mimetype": "text/x-python",
   "name": "python",
   "nbconvert_exporter": "python",
   "pygments_lexer": "ipython3",
   "version": "3.12.4"
  }
 },
 "nbformat": 4,
 "nbformat_minor": 5
}
