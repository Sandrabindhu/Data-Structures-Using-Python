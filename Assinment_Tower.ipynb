{
 "cells": [
  {
   "cell_type": "code",
   "execution_count": null,
   "id": "634cd6db-3170-4b0b-aacf-6de49a405b07",
   "metadata": {},
   "outputs": [],
   "source": [
    "#    Assignment:- Data Structure"
   ]
  },
  {
   "cell_type": "code",
   "execution_count": null,
   "id": "71bcee02-0c18-43ad-bcca-674eea6af574",
   "metadata": {},
   "outputs": [],
   "source": [
    "#   Topic:-\n",
    "#      Fibanociss series and tower of hanoi with recursion and without recursion in data structure"
   ]
  },
  {
   "cell_type": "code",
   "execution_count": 1,
   "id": "06a37d0c-9931-4348-9276-fc93387a04d9",
   "metadata": {},
   "outputs": [
    {
     "name": "stdout",
     "output_type": "stream",
     "text": [
      "[0, 1, 1, 2, 3, 5, 8, 13, 21, 34]\n"
     ]
    }
   ],
   "source": [
    "#  Q1: i) Fibonacci Series - with recursion\n",
    "\n",
    "def fibonacci_recursive(n):\n",
    "    if n <= 0:\n",
    "        return 0\n",
    "    elif n == 1:\n",
    "        return 1\n",
    "    else:\n",
    "        return fibonacci_recursive(n-1) + fibonacci_recursive(n-2)\n",
    "n = 10\n",
    "print([fibonacci_recursive(i) for i in range(n)])\n"
   ]
  },
  {
   "cell_type": "code",
   "execution_count": 3,
   "id": "68f27e2d-2e1d-441a-876d-eef11c3d96b4",
   "metadata": {},
   "outputs": [
    {
     "name": "stdout",
     "output_type": "stream",
     "text": [
      "[0, 1, 1, 1, 2, 3, 5, 8, 13, 21]\n"
     ]
    }
   ],
   "source": [
    "#  Q1: ii) Fibonacci Series - without recursion\n",
    "\n",
    "def fibonacci_iterative(n):\n",
    "    if n <= 0:\n",
    "        return 0\n",
    "    elif n == 1:\n",
    "        return 1\n",
    "    \n",
    "    a, b = 0, 1\n",
    "    for _ in range(n-1):\n",
    "        a, b = b, a + b\n",
    "    return a\n",
    "n = 10\n",
    "print([fibonacci_iterative(i) for i in range(n)])\n"
   ]
  },
  {
   "cell_type": "code",
   "execution_count": 7,
   "id": "6f057d86-ecaf-4560-bafa-7b2aa1a6a499",
   "metadata": {},
   "outputs": [
    {
     "name": "stdout",
     "output_type": "stream",
     "text": [
      "Move disk 1 from A to C\n",
      "Move disk 2 from A to B\n",
      "Move disk 1 from C to B\n",
      "Move disk 3 from A to C\n",
      "Move disk 1 from B to A\n",
      "Move disk 2 from B to C\n",
      "Move disk 1 from A to C\n"
     ]
    }
   ],
   "source": [
    "#  Q2: i) Tower of Hanoi - with recursion\n",
    "\n",
    "def tower_of_hanoi(n, source, auxiliary, destination):\n",
    "    if n == 1:\n",
    "        print(f\"Move disk 1 from {source} to {destination}\")\n",
    "        return\n",
    "    tower_of_hanoi(n-1, source, destination, auxiliary)\n",
    "    print(f\"Move disk {n} from {source} to {destination}\")\n",
    "    tower_of_hanoi(n-1, auxiliary, source, destination)\n",
    "n = 3\n",
    "tower_of_hanoi(n, 'A', 'B', 'C')\n"
   ]
  },
  {
   "cell_type": "code",
   "execution_count": 13,
   "id": "092ba3c7-7a4d-47c9-a305-82d8fa08d38f",
   "metadata": {},
   "outputs": [
    {
     "name": "stdout",
     "output_type": "stream",
     "text": [
      "Move disk 1 from A to C\n",
      "Move disk 2 from A to B\n",
      "Move disk 1 from C to B\n",
      "Move disk 3 from A to C\n",
      "Move disk 1 from B to A\n",
      "Move disk 2 from B to C\n",
      "Move disk 1 from A to C\n"
     ]
    }
   ],
   "source": [
    "#  Q2: ii) Tower of Hanoi - without recursion\n",
    "\n",
    "def tower_of_hanoi_iterative(n):\n",
    "    source, auxiliary, destination = 'A', 'B', 'C'\n",
    "    moves = []\n",
    "    total_moves = 2**n - 1\n",
    "    rods = {source: list(range(n, 0, -1)), auxiliary: [], destination: []}\n",
    "    \n",
    "    for move in range(1, total_moves + 1):\n",
    "        from_rod, to_rod = '', ''\n",
    "        \n",
    "        if move % 3 == 1:\n",
    "            from_rod, to_rod = source, destination\n",
    "        elif move % 3 == 2:\n",
    "            from_rod, to_rod = source, auxiliary\n",
    "        else:\n",
    "            from_rod, to_rod = auxiliary, destination\n",
    "\n",
    "        if not rods[to_rod] or (rods[from_rod] and rods[from_rod][-1] < rods[to_rod][-1]):\n",
    "            disk = rods[from_rod].pop()\n",
    "            rods[to_rod].append(disk)\n",
    "            moves.append(f\"Move disk {disk} from {from_rod} to {to_rod}\")\n",
    "        else:\n",
    "            disk = rods[to_rod].pop()\n",
    "            rods[from_rod].append(disk)\n",
    "            moves.append(f\"Move disk {disk} from {to_rod} to {from_rod}\")   \n",
    "    for move in moves:\n",
    "        print(move)\n",
    "n = 3\n",
    "tower_of_hanoi_iterative(n)\n"
   ]
  },
  {
   "cell_type": "code",
   "execution_count": null,
   "id": "e1525e4e-fdd6-4a96-9ce1-45852032258a",
   "metadata": {},
   "outputs": [],
   "source": []
  }
 ],
 "metadata": {
  "kernelspec": {
   "display_name": "Python 3 (ipykernel)",
   "language": "python",
   "name": "python3"
  },
  "language_info": {
   "codemirror_mode": {
    "name": "ipython",
    "version": 3
   },
   "file_extension": ".py",
   "mimetype": "text/x-python",
   "name": "python",
   "nbconvert_exporter": "python",
   "pygments_lexer": "ipython3",
   "version": "3.12.4"
  }
 },
 "nbformat": 4,
 "nbformat_minor": 5
}
