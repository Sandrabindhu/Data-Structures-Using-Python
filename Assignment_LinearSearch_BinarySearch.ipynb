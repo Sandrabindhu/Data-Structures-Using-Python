{
 "cells": [
  {
   "cell_type": "code",
   "execution_count": null,
   "id": "f32fea40-8304-48f6-a2f7-0c433e298198",
   "metadata": {},
   "outputs": [],
   "source": [
    "                                        # ASSIGNMENT - Linear and Binary Search "
   ]
  },
  {
   "cell_type": "code",
   "execution_count": 3,
   "id": "857722e6-40d1-4bfe-9913-b8f863096baf",
   "metadata": {},
   "outputs": [
    {
     "name": "stdin",
     "output_type": "stream",
     "text": [
      "Enter number of elements: 9\n",
      "Enter elements: 1\n",
      "Enter elements: 1\n",
      "Enter elements: 2\n",
      "Enter elements: 2\n",
      "Enter elements: 3\n",
      "Enter elements: 3\n",
      "Enter elements: 4\n",
      "Enter elements: 5\n",
      "Enter elements: 5\n",
      "Enter the searching elemnts: 4\n"
     ]
    },
    {
     "name": "stdout",
     "output_type": "stream",
     "text": [
      "4 Element found at position 6\n"
     ]
    }
   ],
   "source": [
    "# 1) Linear Search:-\n",
    "\n",
    "def linear_search(list, key):\n",
    "    size=len(list)\n",
    "    index=0\n",
    "    while index<size:\n",
    "        if list[index]==key:\n",
    "            return index\n",
    "        index = index+1\n",
    "    return -1\n",
    "\n",
    "n = int(input(\"Enter number of elements:\"))\n",
    "lst = []\n",
    "for i in range(n):\n",
    "    num = int(input(\"Enter elements:\"))\n",
    "    lst.append(num)\n",
    "key = int(input(\"Enter the searching elemnts:\"))\n",
    "position = linear_search(lst,key)\n",
    "if position == -1:\n",
    "    print(\"Element not found\")\n",
    "else:\n",
    "    print(\"{} Element found at position {}\".format(key, position))\n",
    "                    "
   ]
  },
  {
   "cell_type": "code",
   "execution_count": 7,
   "id": "777950d9-ef8e-4dac-950d-f0e134fb8799",
   "metadata": {},
   "outputs": [
    {
     "name": "stdin",
     "output_type": "stream",
     "text": [
      "Enter the number of elements: 9\n",
      "Enter elements: 1\n",
      "Enter elements: 1\n",
      "Enter elements: 2\n",
      "Enter elements: 2\n",
      "Enter elements: 3\n",
      "Enter elements: 3\n",
      "Enter elements: 4\n",
      "Enter elements: 5\n",
      "Enter elements: 5\n",
      "Enter the element to be searched: 4\n"
     ]
    },
    {
     "name": "stdout",
     "output_type": "stream",
     "text": [
      "4 found at position 6\n"
     ]
    }
   ],
   "source": [
    "# Binary Search:-\n",
    "def binary_search(lst, key_value):\n",
    "    low = 0\n",
    "    high = len(lst) - 1\n",
    "    \n",
    "    while low <= high:\n",
    "        mid = (low + high) // 2\n",
    "        if key_value == lst[mid]:\n",
    "            return mid\n",
    "        elif key_value < lst[mid]:\n",
    "            high = mid - 1\n",
    "        else:\n",
    "            low = mid + 1\n",
    "    \n",
    "    return -1\n",
    "n = int(input(\"Enter the number of elements:\"))\n",
    "lst = []\n",
    "for i in range(n):\n",
    "    num = int(input(\"Enter elements:\"))\n",
    "    lst.append(num)\n",
    "key = int(input(\"Enter the element to be searched:\"))\n",
    "position = binary_search(lst, key)\n",
    "\n",
    "if position == -1:\n",
    "    print(\"Element not found\")\n",
    "else:\n",
    "    print(\"{} found at position {}\".format(key, position))\n",
    "   "
   ]
  },
  {
   "cell_type": "code",
   "execution_count": 9,
   "id": "c4031912-8c02-4b96-890a-fc3f0c039af0",
   "metadata": {},
   "outputs": [],
   "source": [
    "# # Approach is More Efficient:-\n",
    "\n",
    "# #  1) Binary Search is more efficient than Linear Search for large datasets because 𝑂(log ⁡𝑛) grows much slower than O(n).\n",
    "# #  2) However, Binary Search only works on sorted arrays. If the array is unsorted, you need to sort it first (which takes 𝑂(𝑛log 𝑛)), \n",
    "#       making it less efficient.\n",
    "# #  3) Linear Search is better for small inputs or when the array is unsorted.\n"
   ]
  },
  {
   "cell_type": "code",
   "execution_count": null,
   "id": "848e1975-9299-40a3-8dbb-c03c412e41f2",
   "metadata": {},
   "outputs": [],
   "source": []
  }
 ],
 "metadata": {
  "kernelspec": {
   "display_name": "Python 3 (ipykernel)",
   "language": "python",
   "name": "python3"
  },
  "language_info": {
   "codemirror_mode": {
    "name": "ipython",
    "version": 3
   },
   "file_extension": ".py",
   "mimetype": "text/x-python",
   "name": "python",
   "nbconvert_exporter": "python",
   "pygments_lexer": "ipython3",
   "version": "3.12.4"
  }
 },
 "nbformat": 4,
 "nbformat_minor": 5
}
