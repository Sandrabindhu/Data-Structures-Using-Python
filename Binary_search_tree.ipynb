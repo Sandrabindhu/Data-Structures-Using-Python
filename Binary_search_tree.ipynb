{
 "cells": [
  {
   "cell_type": "code",
   "execution_count": null,
   "id": "31b806f8-35a7-4ecc-ab6c-ee3a0f96464a",
   "metadata": {},
   "outputs": [],
   "source": [
    "class Stack:\n",
    "    def _init_(self):\n",
    "        self.items=[]\n",
    "        \n",
    "    def isempty(self):\n",
    "        return len(self.items)==0\n",
    "        \n",
    "    def push(self,item):\n",
    "        self.items.append(item)\n",
    "        \n",
    "    def pop(self):\n",
    "        if not self.isempty():\n",
    "            return self.items.pop()\n",
    "        return None\n",
    "        \n",
    "    def peek(self):\n",
    "        if not self.isempty():\n",
    "            return self.items[-1]\n",
    "        return None\n",
    "        \n",
    "class TreeNode:\n",
    "    def _init_(self, Newdata=None, lchild=None, rchild=None):\n",
    "        self.left = lchild\n",
    "        self.data = NewData\n",
    "        self.right = rchild\n",
    "        \n",
    "class BST:\n",
    "    def insert(self, newData):\n",
    "        newNode = TreeNode(newData)\n",
    "        if self.root is None:\n",
    "            self.root = newNode\n",
    "        else:\n",
    "            curNode = self.root\n",
    "            parentNode = None\n",
    "            while curNode is not None:\n",
    "                parentNode = curNode\n",
    "                if newData < curNode.data:\n",
    "                    curNode = curNode.left\n",
    "                else:\n",
    "                    curNode = curNode.right\n",
    "            if newData < parentNode.data:\n",
    "                parentNode.left = newNode\n",
    "            else:\n",
    "                parentNode.right = newNode\n",
    "                \n",
    "    def preorder(self):\n",
    "        st = Stack()"
   ]
  },
  {
   "cell_type": "code",
   "execution_count": null,
   "id": "31c62921-3eb6-4162-9108-2cc974de6f0b",
   "metadata": {},
   "outputs": [],
   "source": [
    "# Linked List:\n",
    "#    Using ad"
   ]
  }
 ],
 "metadata": {
  "kernelspec": {
   "display_name": "Python 3 (ipykernel)",
   "language": "python",
   "name": "python3"
  },
  "language_info": {
   "codemirror_mode": {
    "name": "ipython",
    "version": 3
   },
   "file_extension": ".py",
   "mimetype": "text/x-python",
   "name": "python",
   "nbconvert_exporter": "python",
   "pygments_lexer": "ipython3",
   "version": "3.12.4"
  }
 },
 "nbformat": 4,
 "nbformat_minor": 5
}
