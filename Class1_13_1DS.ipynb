{
 "cells": [
  {
   "cell_type": "code",
   "execution_count": 22,
   "id": "472e804f-5dba-4cbe-9fa2-ad32bedaa417",
   "metadata": {},
   "outputs": [],
   "source": [
    "# A longer python program:-\n",
    "def gcd(m,n):\n",
    "    fm=[]\n",
    "    for i in range(1, m+1):\n",
    "        if (m%i)==0:\n",
    "            fm.append(i)\n",
    "            fn=[]\n",
    "            \n",
    "    for j in range(1,n+1):\n",
    "        if (n%j)==0:\n",
    "            fn.append(j)\n",
    "            cf=[]\n",
    "    for k in fm:\n",
    "        if k in fn:\n",
    "            cf.append(k)\n",
    "    print(cf[-1])\n",
    "\n"
   ]
  },
  {
   "cell_type": "code",
   "execution_count": 26,
   "id": "c9c73f2d-be8c-4150-ba6e-3e72168d5070",
   "metadata": {},
   "outputs": [],
   "source": [
    "# A shorter python program(min and Max):-\n",
    "def gcd(m,n):\n",
    "    cf=[]\n",
    "    for i in range (1,min(m,n)+1):\n",
    "        if(m%i)==0 and (n%i)==0:\n",
    "            cf.append(i)\n",
    "            return(cf[-1])"
   ]
  },
  {
   "cell_type": "code",
   "execution_count": 28,
   "id": "952dcd25-cffb-41e7-b18d-4a1c585aa171",
   "metadata": {},
   "outputs": [],
   "source": [
    "# No list!  (this is much more simpler)\n",
    "def gcd(m,n):\n",
    "    for i in range (1,min(m,n)+1):\n",
    "        if (m%i)==0 and (n%i)==0:\n",
    "            mrcf=i\n",
    "            return(mrcf)"
   ]
  },
  {
   "cell_type": "code",
   "execution_count": 1,
   "id": "7d8b0830-7ab6-4fad-8441-2bb9f2e03f41",
   "metadata": {},
   "outputs": [],
   "source": [
    "# scan backwards? :\n",
    "# To find the bigest common factor, start at the end and work backwards:\n",
    "# Let i rum from min(m,n) to 1\n",
    "# First common factor that we find will be gcd!\n",
    "def gcd(m,n):\n",
    "    i=min(m,n)\n",
    "    while i>0:\n",
    "        if(m%i)==0 and (n%i)==0:\n",
    "            return(i)\n",
    "        else:\n",
    "            i=i-1\n"
   ]
  },
  {
   "cell_type": "code",
   "execution_count": 5,
   "id": "56592950-53f9-4b70-af43-a8a6b92a50e8",
   "metadata": {},
   "outputs": [],
   "source": [
    "# no list!\n",
    "def gcd(m,n):\n",
    "    i=min(m,n)\n",
    "    while i>0:\n",
    "        if (m%i)==0 and (n%i)==0:\n",
    "            return(i)\n",
    "        else:\n",
    "            i=i-1\n",
    "            "
   ]
  },
  {
   "cell_type": "code",
   "execution_count": 7,
   "id": "a336aa3f-6dcf-4cad-8934-05306d5dc5d3",
   "metadata": {},
   "outputs": [],
   "source": [
    "# Assignment:- Case study of above each code, justification, why it is efficiente?, what is it?,how it will impliment?\n",
    "# what are the previous version and "
   ]
  },
  {
   "cell_type": "code",
   "execution_count": 113,
   "id": "a13a20fa-bc5b-46be-bea7-6bc7e194b4f4",
   "metadata": {},
   "outputs": [],
   "source": [
    "#Prerequisite: m>n\n",
    "def Euclid_gcd(m, n):\n",
    "    if n==0:\n",
    "        return m\n",
    "    else:\n",
    "        return Euclid_gcd(n, m % n)\n",
    "        "
   ]
  },
  {
   "cell_type": "code",
   "execution_count": 72,
   "id": "eadf5ad5-579e-4d3b-917e-ec5f9f4ef0b7",
   "metadata": {},
   "outputs": [
    {
     "name": "stdout",
     "output_type": "stream",
     "text": [
      "10\n",
      "20\n",
      "30\n",
      "40\n",
      "50\n"
     ]
    }
   ],
   "source": [
    "#1) Creating an array:\n",
    "from array import*\n",
    "a1=array('i',[10,20,30,40,50])\n",
    "for x in a1:\n",
    "   print(x)\n",
    "   "
   ]
  },
  {
   "cell_type": "code",
   "execution_count": 74,
   "id": "9247929f-765f-4b3a-8729-73b0e62997c0",
   "metadata": {},
   "outputs": [
    {
     "name": "stdout",
     "output_type": "stream",
     "text": [
      "10\n"
     ]
    }
   ],
   "source": [
    "print(a1[0])"
   ]
  },
  {
   "cell_type": "code",
   "execution_count": 76,
   "id": "3ac6253e-340f-4e7c-b414-c0070f0270bd",
   "metadata": {},
   "outputs": [
    {
     "name": "stdout",
     "output_type": "stream",
     "text": [
      "30\n"
     ]
    }
   ],
   "source": [
    "print(a1[2])"
   ]
  },
  {
   "cell_type": "code",
   "execution_count": 78,
   "id": "aa24de2e-ece3-4369-9b25-31be03bd1226",
   "metadata": {},
   "outputs": [
    {
     "name": "stdout",
     "output_type": "stream",
     "text": [
      "10\n",
      "60\n",
      "20\n",
      "30\n",
      "40\n",
      "50\n"
     ]
    }
   ],
   "source": [
    "#2) Insertion Operation:\n",
    "a1.insert(1,60)\n",
    "for x in a1:\n",
    " print(x)"
   ]
  },
  {
   "cell_type": "code",
   "execution_count": 80,
   "id": "0da2e7b4-57d6-487e-8c38-239235d55694",
   "metadata": {},
   "outputs": [
    {
     "name": "stdout",
     "output_type": "stream",
     "text": [
      "10\n",
      "60\n",
      "20\n",
      "30\n",
      "50\n"
     ]
    }
   ],
   "source": [
    "#3) Deletion Operation:\n",
    "a1.remove(40)\n",
    "for x in a1:\n",
    "    print(x)"
   ]
  },
  {
   "cell_type": "code",
   "execution_count": 94,
   "id": "71fee88a-7558-4ad9-b599-9258009de6b8",
   "metadata": {},
   "outputs": [
    {
     "name": "stdout",
     "output_type": "stream",
     "text": [
      "3\n"
     ]
    }
   ],
   "source": [
    "#4) Search Operation\n",
    "print(a1.index(30))"
   ]
  },
  {
   "cell_type": "code",
   "execution_count": 96,
   "id": "6dd1dc29-2ab5-4196-9e23-a8f7519d934e",
   "metadata": {},
   "outputs": [
    {
     "name": "stdout",
     "output_type": "stream",
     "text": [
      "10\n",
      "60\n",
      "80\n",
      "30\n",
      "50\n"
     ]
    }
   ],
   "source": [
    "#5) Update Operation\n",
    "a1[2]=80\n",
    "for x in a1:\n",
    "    print(x)"
   ]
  },
  {
   "cell_type": "code",
   "execution_count": 100,
   "id": "d3f65156-896e-4887-a537-86328132cab2",
   "metadata": {},
   "outputs": [
    {
     "name": "stdout",
     "output_type": "stream",
     "text": [
      "Largest element: 89\n",
      "Smallest element: 2\n"
     ]
    }
   ],
   "source": [
    "# Q1. Find the largest and smallest element in an array.\n",
    "#     Write a python function that takes an array of number and returns the largest and smallest elements in an array.\n",
    "#    Hint:  Use built-in function min(), max().\n",
    "\n",
    "def find_largest_and_smallest(arr):\n",
    "    if len(arr) == 0:\n",
    "        return None, None  # Return None for both if the array is empty\n",
    "    largest = max(arr)\n",
    "    smallest = min(arr)\n",
    "    return largest, smallest\n",
    "\n",
    "# Example Usage:\n",
    "numbers = [10, 45, 2, 89, 34, 7]\n",
    "largest, smallest = find_largest_and_smallest(numbers)\n",
    "print(f\"Largest element: {largest}\")\n",
    "print(f\"Smallest element: {smallest}\")\n"
   ]
  },
  {
   "cell_type": "code",
   "execution_count": 102,
   "id": "1cbe80ae-2eb4-4e0c-9910-731157a91554",
   "metadata": {},
   "outputs": [
    {
     "name": "stdout",
     "output_type": "stream",
     "text": [
      "Sum of elements: 150\n",
      "Average of elements: 30.0\n"
     ]
    }
   ],
   "source": [
    "# Q2. Sum and Average of array elements.\n",
    "#     Write a python function that calculates and returns the sum and average of that elements in an array.\n",
    "#     Hint : Use Built-in function sum(), len()\n",
    "\n",
    "def calculate_sum_and_average(arr):\n",
    "    if len(arr) == 0:\n",
    "        return 0, 0  # Return 0 for both if the array is empty\n",
    "    total_sum = sum(arr)\n",
    "    average = total_sum / len(arr)\n",
    "    return total_sum, average\n",
    "\n",
    "# Example Usage:\n",
    "numbers = [10, 20, 30, 40, 50]\n",
    "total_sum, average = calculate_sum_and_average(numbers)\n",
    "print(f\"Sum of elements: {total_sum}\")\n",
    "print(f\"Average of elements: {average}\")\n"
   ]
  },
  {
   "cell_type": "code",
   "execution_count": 104,
   "id": "91575db3-8428-43e9-91a2-040d34d372bb",
   "metadata": {},
   "outputs": [
    {
     "name": "stdout",
     "output_type": "stream",
     "text": [
      "Original Array: [10, 20, 30, 40, 50]\n",
      "Reversed Array: [50, 40, 30, 20, 10]\n"
     ]
    }
   ],
   "source": [
    "# Q3. Reverse an array.\n",
    "#     Reverse an array without using built-in function.\n",
    "\n",
    "def reverse_array(arr):\n",
    "    reversed_arr = []\n",
    "    for i in range(len(arr) - 1, -1, -1):  # Iterate from the last index to the first\n",
    "        reversed_arr.append(arr[i])\n",
    "    return reversed_arr\n",
    "\n",
    "# Example Usage:\n",
    "numbers = [10, 20, 30, 40, 50]\n",
    "reversed_numbers = reverse_array(numbers)\n",
    "print(f\"Original Array: {numbers}\")\n",
    "print(f\"Reversed Array: {reversed_numbers}\")\n"
   ]
  },
  {
   "cell_type": "code",
   "execution_count": 106,
   "id": "a9d4af10-45b7-4b32-a9c1-e8b0e61c8ed5",
   "metadata": {},
   "outputs": [
    {
     "name": "stdout",
     "output_type": "stream",
     "text": [
      "Original Array: [10, 20, 30, 20, 40, 10, 50]\n",
      "Array without Duplicates: [10, 20, 30, 40, 50]\n"
     ]
    }
   ],
   "source": [
    "# Q4. Remove duplication from an array.\n",
    "#     Write a function to remove duplication from an array and returns the result as a new array.\n",
    "#     Hint: Use type conversion - list, set.\n",
    "\n",
    "def remove_duplicates(arr):\n",
    "    unique_elements = list(set(arr))  # Convert the array to a set and back to a list\n",
    "    unique_elements.sort()  # Optional: Sort the result to maintain order\n",
    "    return unique_elements\n",
    "\n",
    "# Example Usage:\n",
    "numbers = [10, 20, 30, 20, 40, 10, 50]\n",
    "result = remove_duplicates(numbers)\n",
    "print(f\"Original Array: {numbers}\")\n",
    "print(f\"Array without Duplicates: {result}\")\n"
   ]
  },
  {
   "cell_type": "code",
   "execution_count": 108,
   "id": "c0f6118e-9f3e-4b72-87bb-fbc7c6a39d0b",
   "metadata": {},
   "outputs": [
    {
     "name": "stdout",
     "output_type": "stream",
     "text": [
      "Index of 30: 2\n",
      "Index of 100: -1\n"
     ]
    }
   ],
   "source": [
    "# Q5. Find the index of an element .\n",
    "#     Write a function that takes an array and an elements of the elements in the array. \n",
    "#     If the elements is not found. it should return-1.\n",
    "\n",
    "def find_index(arr, element):\n",
    "    for i in range(len(arr)):  # Iterate through the array\n",
    "        if arr[i] == element:\n",
    "            return i  # Return the index if the element is found\n",
    "    return -1  # Return -1 if the element is not found\n",
    "\n",
    "# Example Usage:\n",
    "numbers = [10, 20, 30, 40, 50]\n",
    "index = find_index(numbers, 30)\n",
    "print(f\"Index of 30: {index}\")  # Should print 2\n",
    "\n",
    "not_found = find_index(numbers, 100)\n",
    "print(f\"Index of 100: {not_found}\")  # Should print -1\n"
   ]
  },
  {
   "cell_type": "code",
   "execution_count": 122,
   "id": "911d6ef5-4159-44b5-a795-b879d4cf57bf",
   "metadata": {},
   "outputs": [
    {
     "name": "stdout",
     "output_type": "stream",
     "text": [
      "Total Numbers: 9\n",
      "Result: 4\n"
     ]
    }
   ],
   "source": [
    "def totalNumbersWithSpecificDifference(N, diff):\n",
    "    count = 0\n",
    "    for num in range(1, N + 1):\n",
    "        sum_digits = sum(int(digit) for digit in str(num))\n",
    "        if (num - sum_digits) <= diff:\n",
    "            count += 1\n",
    "    return count\n",
    "\n",
    "# Example Usage:\n",
    "N = 13\n",
    "diff = 2\n",
    "print(\"Total Numbers:\", totalNumbersWithSpecificDifference(N, diff))\n",
    "\n",
    "# Using Binary Search for Optimization\n",
    "n = 13\n",
    "d = 2\n",
    "low = 1\n",
    "high = n\n",
    "\n",
    "while low <= high:\n",
    "    mid = (low + high) // 2\n",
    "    sum_digits = sum(int(digit) for digit in str(mid))\n",
    "\n",
    "    if (mid - sum_digits) <= d:\n",
    "        low = mid + 1\n",
    "    else:\n",
    "        high = mid - 1\n",
    "\n",
    "result = n - high\n",
    "print(\"Result:\", result)\n"
   ]
  },
  {
   "cell_type": "code",
   "execution_count": 120,
   "id": "efa7f736-4482-4f17-84d6-f8b93d1d4ad1",
   "metadata": {},
   "outputs": [
    {
     "name": "stdout",
     "output_type": "stream",
     "text": [
      "[120, 60, 40, 30, 24]\n"
     ]
    }
   ],
   "source": [
    "def multiply_and_divide(numbers):\n",
    "\n",
    "  product = 1\n",
    "  for num in numbers:\n",
    "    product *= num\n",
    "\n",
    "  results = [product // num for num in numbers]\n",
    "  return results\n",
    "\n",
    "numbers = [1,2, 3, 4, 5]\n",
    "output = multiply_and_divide(numbers)\n",
    "print(output)"
   ]
  },
  {
   "cell_type": "code",
   "execution_count": 134,
   "id": "44084abe-40a2-4e52-bbae-542a096fa73a",
   "metadata": {},
   "outputs": [
    {
     "name": "stdout",
     "output_type": "stream",
     "text": [
      "2\n",
      "-1\n"
     ]
    }
   ],
   "source": [
    "# Date: 30/1/2025\n",
    "\n",
    "\n",
    "from array import *\n",
    "x = array('i', [10, 20, 30, 40, 50])\n",
    "\n",
    "def find_index_or_else(arr, find):\n",
    "    try:\n",
    "        return arr.index(find) \n",
    "    except ValueError:  \n",
    "        return -1  \n",
    "\n",
    "print(find_index_or_else(x, 30)) \n",
    "print(find_index_or_else(x, 100)) \n"
   ]
  },
  {
   "cell_type": "code",
   "execution_count": 136,
   "id": "f0cbb744-2ee6-45eb-9307-5c97a0bf1b71",
   "metadata": {},
   "outputs": [
    {
     "name": "stdout",
     "output_type": "stream",
     "text": [
      "[3, 4, 5]\n"
     ]
    }
   ],
   "source": [
    "# 1) Array Intersection:\n",
    "#    Given two array, write a python function to find intersection of both array(i.e, comman ellemet).\n",
    "#    Hint:  Use list and set concepts\n",
    "\n",
    "def array_intersection(arr1, arr2):\n",
    "    return list(set(arr1) & set(arr2))  \n",
    "\n",
    "arr1 = [1, 2, 3, 4, 5]\n",
    "arr2 = [3, 4, 5, 6, 7]\n",
    "\n",
    "print(array_intersection(arr1, arr2)) \n"
   ]
  },
  {
   "cell_type": "code",
   "execution_count": 138,
   "id": "f5be790e-e455-4271-9c16-712ab05e4cb5",
   "metadata": {},
   "outputs": [
    {
     "name": "stdout",
     "output_type": "stream",
     "text": [
      "[4, 5, 1, 2, 3]\n"
     ]
    }
   ],
   "source": [
    "# 2) Rotate an Array\n",
    "#    Write a function to rotate an array to the right by k positions. \n",
    "#    for eg:\n",
    "#    if array is [1,2,3,4,5] and k=2,\n",
    "#    the output should be = [4,5,1,2,3]\n",
    "\n",
    "def rotate_array(arr, k):\n",
    "    n = len(arr)\n",
    "    k = k % n  \n",
    "    return arr[-k:] + arr[:-k]  \n",
    "\n",
    "arr = [1, 2, 3, 4, 5]\n",
    "k = 2\n",
    "print(rotate_array(arr, k))  \n"
   ]
  },
  {
   "cell_type": "code",
   "execution_count": 146,
   "id": "da25ba5a-878f-4fe6-95b4-b30a52e8f883",
   "metadata": {},
   "outputs": [
    {
     "name": "stdout",
     "output_type": "stream",
     "text": [
      "4\n"
     ]
    }
   ],
   "source": [
    "N = 13\n",
    "D = 2\n",
    "low = 1\n",
    "high = N \n",
    "\n",
    "while low <= high:\n",
    "    mid = (high + low) // 2 \n",
    "    sum_d = sum(int(digit) for digit in str(mid)) \n",
    "\n",
    "    if (mid - sum_d) <= D: \n",
    "        low = mid + 1\n",
    "    else:\n",
    "        high = mid - 1  \n",
    "\n",
    "print(N - high)  \n"
   ]
  },
  {
   "cell_type": "code",
   "execution_count": 148,
   "id": "54aa6dc1-10a7-4390-b769-948c0fd5f0d1",
   "metadata": {},
   "outputs": [
    {
     "name": "stdout",
     "output_type": "stream",
     "text": [
      "6\n"
     ]
    }
   ],
   "source": [
    "#Key Idea:\n",
    "\n",
    "# -Initially Index=-1\n",
    "# -String lenght => string_name.length()\n",
    "# -Traverse up to the length of string\n",
    "# -Check for the element '1'\n",
    "# -Get the last index of '1'\n",
    "# - Print the index followed by new line\n",
    "\n",
    "def last_index_of_one(binary_string):\n",
    "    index = -1  # Initialize index as -1 (if '1' is not found)\n",
    "    \n",
    "    for i in range(len(binary_string)):  # Traverse through the string\n",
    "        if binary_string[i] == '1':  # Check for '1'\n",
    "            index = i  # Update index whenever '1' is found\n",
    "\n",
    "    return index  # Return the last occurrence of '1'\n",
    "\n",
    "# Example usage:\n",
    "binary_string = \"001010100\"\n",
    "print(last_index_of_one(binary_string))  # Output: 7\n"
   ]
  },
  {
   "cell_type": "code",
   "execution_count": null,
   "id": "7c8d28db-f8dc-4602-a133-e1bcc9953389",
   "metadata": {},
   "outputs": [],
   "source": []
  }
 ],
 "metadata": {
  "kernelspec": {
   "display_name": "Python 3 (ipykernel)",
   "language": "python",
   "name": "python3"
  },
  "language_info": {
   "codemirror_mode": {
    "name": "ipython",
    "version": 3
   },
   "file_extension": ".py",
   "mimetype": "text/x-python",
   "name": "python",
   "nbconvert_exporter": "python",
   "pygments_lexer": "ipython3",
   "version": "3.12.4"
  }
 },
 "nbformat": 4,
 "nbformat_minor": 5
}
