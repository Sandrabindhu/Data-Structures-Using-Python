{
 "cells": [
  {
   "cell_type": "code",
   "execution_count": 1,
   "id": "c439179b-f352-4f2f-83d3-3ccf88061d00",
   "metadata": {},
   "outputs": [],
   "source": [
    "#    Binary Search  :-\n",
    "\n",
    "# Binary_Search(list, Key_value):\n",
    "#    1) set low = 0\n",
    "#    2) set high = lengh of the list -1\n",
    "#    3) while low<high:\n",
    "#          mid = (low + high)/2\n",
    "#          if key_value == list[mid], then \n",
    "#              return mid\n",
    "#          elif key_value < list[mid], then\n",
    "#              High = mid+1\n",
    "#          else\n",
    "#              low = mid-1\n",
    "#    4) return -1"
   ]
  },
  {
   "cell_type": "code",
   "execution_count": 3,
   "id": "2155f138-ddca-4e5e-874a-4abb28bd5e0c",
   "metadata": {},
   "outputs": [
    {
     "name": "stdout",
     "output_type": "stream",
     "text": [
      "Element found at index 6\n"
     ]
    }
   ],
   "source": [
    "def binary_search(lst, key_value):\n",
    "    low = 0\n",
    "    high = len(lst) - 1\n",
    "    \n",
    "    while low <= high:\n",
    "        mid = (low + high) // 2\n",
    "        if key_value == lst[mid]:\n",
    "            return mid\n",
    "        elif key_value < lst[mid]:\n",
    "            high = mid - 1\n",
    "        else:\n",
    "            low = mid + 1\n",
    "    \n",
    "    return -1\n",
    "\n",
    "lst = [1, 2, 3, 4, 5, 6, 7, 8, 9, 10]\n",
    "key_value = 7\n",
    "result = binary_search(lst, key_value)\n",
    "if result != -1:\n",
    "    print(f\"Element found at index {result}\")\n",
    "else:\n",
    "    print(\"Element not found in the list\")\n"
   ]
  },
  {
   "cell_type": "code",
   "execution_count": 5,
   "id": "9b304f7b-7927-458a-884c-bf6318cf71ca",
   "metadata": {},
   "outputs": [
    {
     "name": "stdin",
     "output_type": "stream",
     "text": [
      "Enter the number of elements: 5\n",
      "Enter elements: 1\n",
      "Enter elements: 2\n",
      "Enter elements: 3\n",
      "Enter elements: 4\n",
      "Enter elements: 5\n",
      "Enter the element to be searched: 4\n"
     ]
    },
    {
     "name": "stdout",
     "output_type": "stream",
     "text": [
      "4 found at position 3\n"
     ]
    }
   ],
   "source": [
    "# same code given by mam:\n",
    "def binary_search(lst, key_value):\n",
    "    low = 0\n",
    "    high = len(lst) - 1\n",
    "    \n",
    "    while low <= high:\n",
    "        mid = (low + high) // 2\n",
    "        if key_value == lst[mid]:\n",
    "            return mid\n",
    "        elif key_value < lst[mid]:\n",
    "            high = mid - 1\n",
    "        else:\n",
    "            low = mid + 1\n",
    "    \n",
    "    return -1\n",
    "n = int(input(\"Enter the number of elements:\"))\n",
    "lst = []\n",
    "for i in range(n):\n",
    "    num = int(input(\"Enter elements:\"))\n",
    "    lst.append(num)\n",
    "key = int(input(\"Enter the element to be searched:\"))\n",
    "position = binary_search(lst, key)\n",
    "\n",
    "if position == -1:\n",
    "    print(\"Element not found\")\n",
    "else:\n",
    "    print(\"{} found at position {}\".format(key, position))\n",
    "   "
   ]
  },
  {
   "cell_type": "code",
   "execution_count": 11,
   "id": "f94e6e2d-2e4d-4898-8eed-74d5d99fe84d",
   "metadata": {},
   "outputs": [
    {
     "name": "stdout",
     "output_type": "stream",
     "text": [
      "name: xxxx\n",
      "ID: 1234\n",
      "Age: 80000\n"
     ]
    }
   ],
   "source": [
    "class Employee:  #class creation\n",
    "    def E_data(self, n, id, a):  #method 1 (object intialised)\n",
    "        self.name = n\n",
    "        self.ID = id\n",
    "        self.Age = a\n",
    "    def display(self):  #method2\n",
    "        print(\"name:\", self.name)\n",
    "        print(\"ID:\", self.ID)\n",
    "        print(\"Age:\", self.Age)\n",
    "#instance of object\n",
    "e1 = Employee()\n",
    "e1.E_data(\"xxxx\", 1234, 80000)\n",
    "e1.display()"
   ]
  },
  {
   "cell_type": "code",
   "execution_count": 21,
   "id": "17669131-2d59-4297-bba7-363eaa3d1a3b",
   "metadata": {},
   "outputs": [
    {
     "name": "stdout",
     "output_type": "stream",
     "text": [
      "Name: xxxx\n",
      "ID: 1234\n",
      "Age: 22\n",
      "Name: YYYY\n",
      "ID: 0\n",
      "Age: 0\n"
     ]
    }
   ],
   "source": [
    "class Employee:  # Class creation\n",
    "    def __init__(self, n=\" \", id=0, a=0):  # Constructor(method 1):- object initialized\n",
    "        self.name = n\n",
    "        self.ID = id\n",
    "        self.Age = a\n",
    "\n",
    "    def display(self):  # Method to display details\n",
    "        print(\"Name:\", self.name)\n",
    "        print(\"ID:\", self.ID)\n",
    "        print(\"Age:\", self.Age)\n",
    "\n",
    "# Creating instances of Employee class correctly\n",
    "e1 = Employee(\"xxxx\", 1234, 22)\n",
    "e2 = Employee(\"YYYY\")  # id and age take default values\n",
    "\n",
    "# Calling display method\n",
    "e1.display()\n",
    "e2.display()\n"
   ]
  },
  {
   "cell_type": "code",
   "execution_count": 23,
   "id": "e7a3d1a7-6aab-410d-8c71-ee46ea82829f",
   "metadata": {},
   "outputs": [],
   "source": [
    "# bubble sort the adjecent of the element compare"
   ]
  },
  {
   "cell_type": "code",
   "execution_count": 25,
   "id": "6895edfe-3ab2-47d1-8c83-febb3c0da882",
   "metadata": {},
   "outputs": [],
   "source": [
    "# Bubble sort:---"
   ]
  },
  {
   "cell_type": "code",
   "execution_count": 27,
   "id": "7b7417bf-d965-47b5-bb93-fa7bf0978d31",
   "metadata": {},
   "outputs": [],
   "source": [
    "bubble_sort(list):\n",
    "1) size = len of list\n",
    "2) for i = 0 to size-1, then\n",
    "      for j = 0 to size-1, then\n",
    "        if list[i]>list[i+1], then\n",
    "            set temp = list[i]\n",
    "            set list[i] = list[i+1]\n",
    "            set list[i+1 =temp\n",
    "3) exit"
   ]
  },
  {
   "cell_type": "code",
   "execution_count": 35,
   "id": "6d4dbbf0-e9f2-4839-8ef3-c8e50dde591e",
   "metadata": {},
   "outputs": [
    {
     "name": "stdin",
     "output_type": "stream",
     "text": [
      "Enter number of elements: 5\n",
      "Enter elements: 1\n",
      "Enter elements: 2\n",
      "Enter elements: 3\n",
      "Enter elements: 4\n",
      "Enter elements: 5\n"
     ]
    },
    {
     "name": "stdout",
     "output_type": "stream",
     "text": [
      "The sorted elements are:\n",
      "1 2 3 4 5 "
     ]
    }
   ],
   "source": [
    "def bubble_sort(list):\n",
    "    size = len(list)  # Step 1: Get the size of the list\n",
    "\n",
    "    for i in range(size - 1):  # Step 2: Loop for passes (n-1 times)\n",
    "        for j in range(size - 1):  # Inner loop for comparisons\n",
    "            if list[j] > list[j + 1]:  # Compare adjacent elements\n",
    "                # Swap if the current element is greater than the next\n",
    "                temp = arr[j]\n",
    "                list[j] = list[j + 1]\n",
    "                list[j + 1] = temp\n",
    "n = int(input(\"Enter number of elements:\"))\n",
    "#take user input\n",
    "lst = []\n",
    "for i in range(n):\n",
    "    num = int(input(\"Enter elements:\"))\n",
    "    lst.append(num)\n",
    "bubble_sort(lst)\n",
    "print(\"The sorted elements are:\")\n",
    "for i in range(n):\n",
    "    print(lst[i], end = \" \")"
   ]
  },
  {
   "cell_type": "code",
   "execution_count": null,
   "id": "6197d46e-b281-4339-aba8-8e72542188af",
   "metadata": {},
   "outputs": [],
   "source": [
    "#  Selection sort:- \n",
    "#find the samllest element is selected and then this element inter change with the first position.\n",
    "\n",
    "selection_sort(list):\n",
    "1) size = len of list\n",
    "2) for i = 0 to size-1, do\n",
    "      min = list[i]\n",
    "      posn = i\n",
    "      for j = 0 to range(i+1, size-1), do\n",
    "        if list[i]<min\n",
    "            min = list[j]\n",
    "            posn = j\n",
    "      if i! = posn, then\n",
    "        set temp = list[i]\n",
    "        set list[i] = list[posn]\n",
    "        set list[posn] =temp\n",
    "3) exit"
   ]
  },
  {
   "cell_type": "code",
   "execution_count": 37,
   "id": "75cda1f7-50ca-4d53-b68f-c5364e9c6c88",
   "metadata": {},
   "outputs": [
    {
     "name": "stdout",
     "output_type": "stream",
     "text": [
      "Sorted list: [11, 12, 22, 25, 64]\n"
     ]
    }
   ],
   "source": [
    "def selection_sort(lst):\n",
    "    size = len(lst)\n",
    "    for i in range(size):\n",
    "        min_index = i\n",
    "        for j in range(i + 1, size):\n",
    "            if lst[j] < lst[min_index]:\n",
    "                min_index = j\n",
    "        if i != min_index:\n",
    "            lst[i], lst[min_index] = lst[min_index], lst[i]\n",
    "    return lst\n",
    "\n",
    "# Example usage\n",
    "if __name__ == \"__main__\":\n",
    "    lst = [64, 25, 12, 22, 11]\n",
    "    sorted_lst = selection_sort(lst)\n",
    "    print(\"Sorted list:\", sorted_lst)  # Output: [11, 12, 22, 25, 64]\n"
   ]
  },
  {
   "cell_type": "code",
   "execution_count": null,
   "id": "33a1c3a2-4a8c-4ce7-b5dd-0f614385d0ad",
   "metadata": {},
   "outputs": [],
   "source": [
    "# Intertion sorted:- \n",
    "# Each element is inserted into position in a previously sorted array.\n",
    "\n",
    "insertion_sort(list):\n",
    "   1) size = len(list)\n",
    "   2) for i=1 to size-1, do\n",
    "          temp=list[i]\n",
    "          j=i-i\n",
    "          while temp<list[j] and j>=0, do\n",
    "               list[j+1]=list[j]\n",
    "               j=j-1\n",
    "          list[j+1]=temp\n",
    "   3) exit\n",
    "-----------------------------------\n",
    "best case: O(n)\n",
    "worts case: O(n^2)\n",
    "-----------------------------------\n",
    "input: [5,2,9,1,5,6]\n",
    "size=5\n",
    "lst iteration of for loop -->    i+1, so temp=list[1]=2, j=i-1=0\n",
    "                                         temp<list[j]  --> 2<5, j=0\n",
    "                                         shifting list[0+1]=list[0]\n",
    "                                                  j=0-1=-1   #exit\n",
    "2nd iteration of for loop -->    1=2, so temp=list[2]=9, j=2-1=1\n",
    "                                         "
   ]
  },
  {
   "cell_type": "code",
   "execution_count": 39,
   "id": "93d2b3be-97a4-4167-8c93-5d362e5e42e8",
   "metadata": {},
   "outputs": [
    {
     "name": "stdout",
     "output_type": "stream",
     "text": [
      "Sorted list: [5, 6, 11, 12, 13]\n"
     ]
    }
   ],
   "source": [
    "def insertion_sort(list):\n",
    "    size = len(list)\n",
    "    for i in range(1, size):\n",
    "        temp = list[i]\n",
    "        j = i - 1\n",
    "        while temp<list[j] and j>=0:\n",
    "            list[j + 1] = list[j]\n",
    "            j=j-1\n",
    "        list[j + 1] = temp\n",
    "\n",
    "n=int(input(\"Enter number of elements:\"))\n",
    "lst=[]\n",
    "for i in range(n):\n",
    "    num=int(input(\"Enter elements:\"))\n",
    "\n",
    "    \n",
    "    sorted_list = insertion_sort(list)\n",
    "    print(\"Sorted list:\", sorted_list)  # Output: [5, 6, 11, 12, 13]\n"
   ]
  },
  {
   "cell_type": "code",
   "execution_count": null,
   "id": "ae23b3c8-a6b6-4c86-9444-df6fe0f45da4",
   "metadata": {},
   "outputs": [],
   "source": [
    "# Book: Introduction to the design and analysis of alogorithm"
   ]
  },
  {
   "cell_type": "code",
   "execution_count": 41,
   "id": "cb7d6c90-6d3a-463e-afa2-1860acb40a3b",
   "metadata": {},
   "outputs": [
    {
     "name": "stdout",
     "output_type": "stream",
     "text": [
      "Hello, Sandra\n"
     ]
    }
   ],
   "source": [
    "def greet(name):\n",
    "    return \"Hello, \" + name\n",
    "\n",
    "print(greet(\"Sandra\"))\n"
   ]
  },
  {
   "cell_type": "code",
   "execution_count": null,
   "id": "b9fde0cf-1ab8-4ffc-bcc4-7bf3dedb21c1",
   "metadata": {},
   "outputs": [],
   "source": []
  }
 ],
 "metadata": {
  "kernelspec": {
   "display_name": "Python 3 (ipykernel)",
   "language": "python",
   "name": "python3"
  },
  "language_info": {
   "codemirror_mode": {
    "name": "ipython",
    "version": 3
   },
   "file_extension": ".py",
   "mimetype": "text/x-python",
   "name": "python",
   "nbconvert_exporter": "python",
   "pygments_lexer": "ipython3",
   "version": "3.12.4"
  }
 },
 "nbformat": 4,
 "nbformat_minor": 5
}
