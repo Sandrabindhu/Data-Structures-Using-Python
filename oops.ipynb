{
 "cells": [
  {
   "cell_type": "code",
   "execution_count": 17,
   "id": "0b737674-9fd5-40ba-83bf-a5727f98acf9",
   "metadata": {},
   "outputs": [
    {
     "name": "stdout",
     "output_type": "stream",
     "text": [
      "Name: xxxxxxx\n",
      "ID: 12345\n",
      "Age: 26\n",
      "Name: jjjjjjj\n",
      "ID: 345\n",
      "Age: 61\n"
     ]
    }
   ],
   "source": [
    "class Employee:     # class creation\n",
    "    def E_data(self, n, id, a):    #method 1 (object intialization\n",
    "        self.name = n\n",
    "        self.id = id\n",
    "        self.age = a\n",
    "        \n",
    "    def display(self):         #method2\n",
    "        print(\"Name:\", self.name)\n",
    "        print(\"ID:\", self.id)\n",
    "        print(\"Age:\", self.age)\n",
    "#insatance of object\n",
    "e1 = Employee()\n",
    "e1.E_data(\"xxxxxxx\", 12345, 26)\n",
    "e1.display()\n",
    "\n",
    "e2 = Employee()\n",
    "e2.E_data(\"jjjjjjj\", 345, 61)\n",
    "e2.display()"
   ]
  },
  {
   "cell_type": "code",
   "execution_count": 19,
   "id": "320c7706-30d6-4d64-aabd-032333459ea0",
   "metadata": {},
   "outputs": [
    {
     "name": "stdout",
     "output_type": "stream",
     "text": [
      "Name: xxxxxxx\n",
      "ID: 12345\n",
      "Age: 26\n",
      "Name: jjjjjjj\n",
      "ID: 345\n",
      "Age: 61\n"
     ]
    }
   ],
   "source": [
    "class Employee:     # class creation\n",
    "    def __init__(self, n, id, a):    #method 1 (object intialization\n",
    "        self.name = n\n",
    "        self.id = id\n",
    "        self.age = a\n",
    "        \n",
    "    def display(self):         #method2\n",
    "        print(\"Name:\", self.name)\n",
    "        print(\"ID:\", self.id)\n",
    "        print(\"Age:\", self.age)\n",
    "#insatance of object\n",
    "e1.E_data(\"xxxxxxx\", 12345, 26)\n",
    "e1.display()\n",
    "\n",
    "e2.E_data(\"jjjjjjj\", 345, 61)\n",
    "e2.display()"
   ]
  },
  {
   "cell_type": "code",
   "execution_count": 39,
   "id": "bb0544d2-9b64-428f-a3e8-34c809c846d0",
   "metadata": {},
   "outputs": [
    {
     "name": "stdout",
     "output_type": "stream",
     "text": [
      "Name: Dog\n",
      "ID: White\n",
      "Age: 9\n",
      "Name: Cat\n",
      "ID: Black\n",
      "Age: 6\n"
     ]
    }
   ],
   "source": [
    "class petAnimal:     # class creation\n",
    "    count = 0\n",
    "    def __init__(self, n, id, a):    #method 1 (object intialization\n",
    "        self.Pname = n\n",
    "        self.Pcolor = id\n",
    "        self.Page = a\n",
    "        petAnimal.count += 1\n",
    "        \n",
    "    def display(self):         #method2\n",
    "        print(\"Pet Name:\", self.Pname)\n",
    "        print(\"Pet colour:\", self.Pcolor)\n",
    "        print(\"Pet Age:\", self.Page)\n",
    "        \n",
    "    @classmethod\n",
    "    def total_pets(cls):  # Class method to display total count\n",
    "        print(\"Total number of pets:\", cls.count)\n",
    "        \n",
    "#insatance of object\n",
    "e1.E_data(\"Dog\", \"White\", 9)\n",
    "e2.E_data(\"Cat\", \"Black\", 6)\n",
    "e1.display()\n",
    "e2.display()"
   ]
  },
  {
   "cell_type": "code",
   "execution_count": null,
   "id": "991fa7aa-40dd-4655-a149-3c732fda4cc3",
   "metadata": {},
   "outputs": [],
   "source": [
    "#  Algorithm:-"
   ]
  },
  {
   "cell_type": "code",
   "execution_count": null,
   "id": "e6246859-1e23-4d0e-8c08-a264001c3477",
   "metadata": {},
   "outputs": [],
   "source": [
    "# Algorithm:\n",
    "# Linear_search(list, key_value):\n",
    "#   1) set index=0\n",
    "#   2) while index < size of the list do\n",
    "#           if list[index] == key_value then\n",
    "#                return index\n",
    "#           index = index+1\n",
    "#   3) return -1\n",
    "\n",
    "\n",
    "#   Answer in Linear Search file.:"
   ]
  }
 ],
 "metadata": {
  "kernelspec": {
   "display_name": "Python 3 (ipykernel)",
   "language": "python",
   "name": "python3"
  },
  "language_info": {
   "codemirror_mode": {
    "name": "ipython",
    "version": 3
   },
   "file_extension": ".py",
   "mimetype": "text/x-python",
   "name": "python",
   "nbconvert_exporter": "python",
   "pygments_lexer": "ipython3",
   "version": "3.12.4"
  }
 },
 "nbformat": 4,
 "nbformat_minor": 5
}
